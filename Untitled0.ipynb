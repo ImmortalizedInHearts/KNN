{
  "nbformat": 4,
  "nbformat_minor": 0,
  "metadata": {
    "colab": {
      "name": "Untitled0.ipynb",
      "provenance": [],
      "collapsed_sections": [],
      "authorship_tag": "ABX9TyMnyxGzeKGPQOw/e0mjragN",
      "include_colab_link": true
    },
    "kernelspec": {
      "name": "python3",
      "display_name": "Python 3"
    }
  },
  "cells": [
    {
      "cell_type": "markdown",
      "metadata": {
        "id": "view-in-github",
        "colab_type": "text"
      },
      "source": [
        "<a href=\"https://colab.research.google.com/github/ImmortalizedInHearts/KNN/blob/master/Untitled0.ipynb\" target=\"_parent\"><img src=\"https://colab.research.google.com/assets/colab-badge.svg\" alt=\"Open In Colab\"/></a>"
      ]
    },
    {
      "cell_type": "code",
      "metadata": {
        "id": "u2i2CrXhO1Kb",
        "colab_type": "code",
        "colab": {}
      },
      "source": [
        "import scipy.io\n",
        "import matplotlib.pyplot as plt\n",
        "import numpy as np\n",
        "import math\n",
        "import pylab as pl\n",
        "import matplotlib.cm as cm\n",
        "\n"
      ],
      "execution_count": 3,
      "outputs": []
    },
    {
      "cell_type": "code",
      "metadata": {
        "id": "pTHlZMvZGjmT",
        "colab_type": "code",
        "colab": {}
      },
      "source": [
        "mat = scipy.io.loadmat('data.mat')\n",
        "trainInputs = np.transpose(mat['data']['training'][0][0][0][0][0])\n",
        "trainTargets = np.transpose(mat['data']['training'][0][0][0][0][1])\n",
        "testInputs = np.transpose(mat['data']['test'][0][0][0][0][0])\n",
        "testTargets = np.transpose(mat['data']['test'][0][0][0][0][1])\n",
        "\n",
        "train = [trainInputs, trainTargets]\n",
        "test = [testInputs, testTargets]\n",
        "\n",
        "confMatrix = [[0 for x in range(10)] for i in range(10)]\n"
      ],
      "execution_count": 4,
      "outputs": []
    },
    {
      "cell_type": "code",
      "metadata": {
        "id": "7SJQOKUBc-rX",
        "colab_type": "code",
        "colab": {}
      },
      "source": [
        "#Main classification procedure\n",
        "def kNN (trainData, testData):\n",
        "    \n",
        "    targetList = []\n",
        "    for testPoint in testData[0]:\n",
        "      listDist = [[distRecogn(testPoint, trainData[0][i]), list(trainData[1][i]).index(1)] for i in range(1000)]\n",
        "      listDist.sort(key=lambda item: item[0])\n",
        "      targetList.append(listDist[0][1])\n",
        "    return targetList\n",
        "\n",
        "def distRecogn(testX, trainY):\n",
        "\n",
        "    return sum(abs(testX - trainY) ** 3) ** (1 / 3)"
      ],
      "execution_count": 5,
      "outputs": []
    },
    {
      "cell_type": "code",
      "metadata": {
        "id": "yCS81SspI41i",
        "colab_type": "code",
        "colab": {}
      },
      "source": [
        "targets = kNN(test, train)\n",
        "for index in range(len(targets)):\n",
        "  confMatrix[list(train[1][index]).index(1)][targets[index]] += 1"
      ],
      "execution_count": 6,
      "outputs": []
    },
    {
      "cell_type": "code",
      "metadata": {
        "id": "9vAxeH_94kZe",
        "colab_type": "code",
        "colab": {
          "base_uri": "https://localhost:8080/",
          "height": 182
        },
        "outputId": "7af4a45d-12e7-4400-96b3-3f10501d51d3"
      },
      "source": [
        "confMatrix"
      ],
      "execution_count": 7,
      "outputs": [
        {
          "output_type": "execute_result",
          "data": {
            "text/plain": [
              "[[95, 1, 0, 0, 0, 1, 2, 0, 0, 1],\n",
              " [0, 99, 0, 0, 0, 0, 0, 0, 1, 0],\n",
              " [2, 0, 85, 2, 2, 1, 1, 6, 0, 1],\n",
              " [0, 0, 1, 93, 0, 3, 0, 0, 1, 2],\n",
              " [1, 7, 0, 0, 79, 1, 0, 0, 0, 12],\n",
              " [1, 1, 0, 10, 0, 85, 1, 0, 2, 0],\n",
              " [2, 1, 0, 1, 0, 2, 94, 0, 0, 0],\n",
              " [0, 5, 1, 0, 0, 0, 0, 91, 0, 3],\n",
              " [1, 1, 0, 7, 0, 3, 2, 5, 76, 5],\n",
              " [0, 2, 0, 0, 5, 0, 0, 10, 1, 82]]"
            ]
          },
          "metadata": {
            "tags": []
          },
          "execution_count": 7
        }
      ]
    },
    {
      "cell_type": "code",
      "metadata": {
        "id": "9JqsOTW54281",
        "colab_type": "code",
        "colab": {
          "base_uri": "https://localhost:8080/",
          "height": 34
        },
        "outputId": "158f404c-9f4c-4aa4-985c-dc33637eb4dd"
      },
      "source": [
        "np.mean([confMatrix[i][i] for i in range(10)])"
      ],
      "execution_count": 8,
      "outputs": [
        {
          "output_type": "execute_result",
          "data": {
            "text/plain": [
              "87.9"
            ]
          },
          "metadata": {
            "tags": []
          },
          "execution_count": 8
        }
      ]
    },
    {
      "cell_type": "code",
      "metadata": {
        "id": "Ons-35QM7UeQ",
        "colab_type": "code",
        "colab": {}
      },
      "source": [
        ""
      ],
      "execution_count": null,
      "outputs": []
    }
  ]
}